{
 "cells": [
  {
   "cell_type": "markdown",
   "metadata": {
    "id": "_TE2ItlsI956"
   },
   "source": [
    "# ML - TME 3 : Introduction à Pytorch\n",
    "\n",
    "\n",
    "Nicolas Baskiotis (nicolas.baskiotis@sorbonne-universite.fr)  -- MLIA/ISIR, Sorbonne Université\n"
   ]
  },
  {
   "cell_type": "markdown",
   "metadata": {
    "id": "TAER7frwJu9L"
   },
   "source": [
    "# Préambule\n",
    "\n",
    "Dans ce TME, vous allez principalement refaire ce que vous avez fait en TME2 mais sous PyTorch, et en remplaçant au fur et à mesure les blocs programmés à la main par les possibilités de PyTorch.\n",
    "\n",
    "Les lignes suivantes permettent d'importer pytorch et vérifier qu'un GPU est disponible."
   ]
  },
  {
   "cell_type": "code",
   "execution_count": 1,
   "metadata": {
    "colab": {
     "base_uri": "https://localhost:8080/"
    },
    "executionInfo": {
     "elapsed": 512,
     "status": "ok",
     "timestamp": 1700496819634,
     "user": {
      "displayName": "Lau re",
      "userId": "03302099944040145915"
     },
     "user_tz": -60
    },
    "id": "3Y9YOOHHhJKY",
    "outputId": "e7a2d50b-e003-4b81-ba6a-cddab0bfbc3e"
   },
   "outputs": [
    {
     "name": "stdout",
     "output_type": "stream",
     "text": [
      "La version de torch est :  2.2.0+cu121\n",
      "Le calcul GPU est disponible ?  False\n"
     ]
    }
   ],
   "source": [
    "import torch\n",
    "print(\"La version de torch est : \",torch.__version__)\n",
    "print(\"Le calcul GPU est disponible ? \", torch.cuda.is_available())\n",
    "\n",
    "import numpy as np\n",
    "import sklearn\n",
    "import matplotlib.pyplot as plt"
   ]
  },
  {
   "cell_type": "markdown",
   "metadata": {
    "id": "3WA5ZFwjkWKS"
   },
   "source": [
    "# Prise en main de Pytorch\n",
    "\n",
    "Cette partie est un tutoriel pour la prise en main de pytorch. N'hesitez pas à explorer et expérimenter les notions présentées."
   ]
  },
  {
   "cell_type": "markdown",
   "metadata": {
    "id": "u2LqFo3wzwYP"
   },
   "source": [
    "## Syntaxe\n",
    "\n",
    "Le principal objet manipulé sous Pytorch est **torch.Tensor** qui correspond à un tenseur mathématique (généralisation de la notion de matrice en $n$-dimensions), très proche dans l'utilisation de **numpy.array**.   Cet objet est optimisé pour les calculs sur GPU ce qui implique quelques contraintes plus importantes que sous **numpy**. En particulier :\n",
    "* le type du tenseur manipulé est très important et les conversions ne sont pas automatique (**FloatTensor** de type **torch.float**, **DoubleTensor** de type **torch.double**,  **ByteTensor** de type **torch.byte**, **IntTensor** de type **torch.int**, **LongTensor** de type **torch.long**). Pour un tenseur **t** La conversion se fait très simplement en utilisant les fonctions : **t.double()**, **t.float()**, **t.long()** ...\n",
    "* la plupart des opérations ont une version *inplace*, c'est-à-dire qui modifie le tenseur plutôt que de renvoyer un nouveau tenseur; elles sont suffixées par **_** (**add_** par exemple).\n",
    "\n",
    "N'hésitez pas à vous référez à la [documentation officielle](https://pytorch.org/docs/stable/tensors.html) pour la liste exhaustive des opérations.\n"
   ]
  },
  {
   "cell_type": "markdown",
   "metadata": {},
   "source": [
    "Les lignes suivantes ont pour objectif à vous faire prendre en main les tenseurs. Completez afin d'effectuer les opérations demandées."
   ]
  },
  {
   "cell_type": "code",
   "execution_count": 2,
   "metadata": {
    "cellView": "code",
    "colab": {
     "base_uri": "https://localhost:8080/"
    },
    "executionInfo": {
     "elapsed": 8,
     "status": "ok",
     "timestamp": 1700496820051,
     "user": {
      "displayName": "Lau re",
      "userId": "03302099944040145915"
     },
     "user_tz": -60
    },
    "id": "VZxNfy1b1u43",
    "outputId": "e1cc6a39-4820-4353-f596-1fbe813ee239"
   },
   "outputs": [],
   "source": [
    "# Création de tenseurs et caractéristiques\n",
    "liste_1, liste_2 = [1.,2.,3.], [2.,3.,4.]\n",
    "## Créez un tenseur à partir des listes liste_1 et liste_2\n",
    "tensor_1=torch.tensor([liste_1,liste_2])\n",
    "#print(tensor_1)\n",
    "\n",
    "## Créez un tenseur  tenseur rempli de 1 de taille 2x3x4\n",
    "tensor_2=torch.ones([2,3,4])\n",
    "#print(tensor_2)\n",
    "\n",
    "##  Créez tenseur de zéros de taille 2x3 de type float\n",
    "tensor_3=torch.zeros([2,3],dtype=float)\n",
    "#print(tensor_3)\n",
    "## Créez un tenseur de zéros de taille 2x3 puis remplissez le d'entiers aléatoires entre 10 et 15 (inplace)\n",
    "tensor_4=torch.zeros([2,3])\n",
    "tensor_4.random_(10,16)\n",
    "#print(tensor_4)\n",
    "\n",
    "##  Créez un tenseur a de taille 2x3 aléatoire suivant une loi normale, et un tenseur b de taille 3x4,\n",
    "#et un vecteur c de taille 3\n",
    "tensor_5_a=torch.normal(0,1,size=(2,3))\n",
    "#print(tensor_5_a)\n",
    "tensor_5_b=torch.normal(0,1,size=(3,4))\n",
    "#print(tensor_5_b)\n",
    "tensor_5_c=torch.normal(0,1,size=(3,))\n",
    "#print(tensor_5_c)\n",
    "##  Concatenez les deux tenseurs a de façons à former un  tenseur de taille 6x2\n",
    "concatenated_tensor = torch.cat((tensor_5_a.t(), tensor_5_a.t()))\n",
    "#print(concatenated_tensor)\n",
    "\n",
    "##  Affichez le nombre de lignes, de colonnes  de b\n",
    "#print(concatenated_tensor.shape)\n",
    "\n",
    "## Convertissez a en tenseur d'entiers\n",
    "\n",
    "tensor_a_int=tensor_5_a.to(torch.int)\n",
    "#print(tensor_a_int)\n",
    "# Opérations élémentaires sur les tenseurs\n",
    "##Faites le produit scalaire de c par c\n",
    "tensor_op1=torch.dot(tensor_5_c,tensor_5_c)\n",
    "#print(tensor_op1)\n",
    "\n",
    "## Faites le produit matriciel de a par b\n",
    "tensor_op2=torch.matmul(tensor_5_a,tensor_5_b)\n",
    "#print(tensor_op2)\n",
    "\n",
    "## Calculez le produit matriciel de la transposé de a par a\n",
    "tensor_op3=torch.matmul(tensor_5_a,tensor_5_a.t())\n",
    "#print(tensor_op3)\n",
    "\n",
    "## Trouvez l'index des maximums des colonnes de a\n",
    "tensor_5_a=torch.normal(0,1,size=(2,3))\n",
    "#print(tensor_5_a)\n",
    "#print(torch.argmax(tensor_5_a,axis=0))\n",
    "\n",
    "\n",
    "## Faites la somme par colonne de b, la somme totale de b\n",
    "tensor_5_b=torch.normal(0,1,size=(3,4))\n",
    "#print(tensor_5_b)\n",
    "#print(torch.sum(tensor_5_b,axis=0))\n",
    "#print(torch.sum(tensor_5_b))\n",
    "\n",
    "## Calculez la moyenne selon les colonnes de b, puis la moyenne de tous les éléments\n",
    "tensor_5_b=torch.normal(0,1,size=(3,4))\n",
    "#print(tensor_5_b)\n",
    "#print(torch.mean(tensor_5_b,axis=0))\n",
    "#print(torch.mean(tensor_5_b))\n",
    "\n",
    "## Changez la taille de b en 2x6\n",
    "tensor_5_b=torch.normal(0,1,size=(3,4))\n",
    "tensor_5_b_reshaped=tensor_5_b.reshape(2,6)\n",
    "#print(tensor_5_b_reshaped)\n"
   ]
  },
  {
   "cell_type": "markdown",
   "metadata": {},
   "source": [
    "Attention ! comme sous numpy, il peut y avoir des pièges !\n",
    "Vérifier toujours les dimensions !!"
   ]
  },
  {
   "cell_type": "code",
   "execution_count": 3,
   "metadata": {},
   "outputs": [
    {
     "name": "stdout",
     "output_type": "stream",
     "text": [
      "tensor([[0., 0., 0., 0., 0.],\n",
      "        [0., 0., 0., 0., 0.],\n",
      "        [0., 0., 0., 0., 0.],\n",
      "        [0., 0., 0., 0., 0.],\n",
      "        [0., 0., 0., 0., 0.]]) tensor([[0., 0., 0., 0., 0.]])\n"
     ]
    }
   ],
   "source": [
    "\n",
    "a=torch.zeros(5,1)\n",
    "b=torch.zeros(5)\n",
    "## la première opération fait un broadcast et le résultat est tenseur à 2 dimensiosn,\n",
    "## le résultat de la deuxième opération est bien un vecteur\n",
    "print(a-b,a.t()-b)"
   ]
  },
  {
   "cell_type": "markdown",
   "metadata": {
    "id": "YzhX7D8KKIvt"
   },
   "source": [
    "## Autograd et graphe de calcul\n",
    "Un élément central de pytorch est le graphe de calcul : lors du calcul d'une variable, l'ensemble des opérations qui ont servies au calcul sont stockées sous la forme d'un graphe acyclique, dit de *calcul*. Les noeuds internes du graphe représentent les opérations, le noeud terminal le résultat et les racines les variables d'entrées. Ce graphe sert en particulier à calculer les dérivées partielles de la sortie par rapport aux variables d'entrées - en utilisant les règles de dérivations chainées des fonctions composées.\n",
    "Pour cela, toutes les fonctions disponibles dans pytorch comportent un mécanisme, appelé *autograd* (automatique differentiation), qui permet de calculer les dérivées partielles des opérations.\n",
    "\n",
    "### Différenciation automatique\n",
    "(De manière simplifiée, pour les détails cf [la documentation](https://pytorch.org/docs/stable/notes/extending.html))\n",
    "\n",
    "Toute opération sous pytorch hérite de la classe **Function** et doit définir :\n",
    "* une méthode **forward(\\*args)** : passe avant, calcule le résultat de la fonction appliquée aux arguments\n",
    "* une méthode **backward(\\*args)** : passe arrière, calcule les dérivées partielles par rapport aux entrées. Les arguments de  cette méthode correspondent aux valeurs des dérivées suivantes dans le graphe de calcul. En particulier, il y a autant d'arguments à **backward**  que de sorties pour la méthode **forward** (rétro-propagation : on doit connaître les dérivés qui viennent  en aval du calcul) et autant de sorties que d'arguments dans la méthode **forward** (chaque sortie correspond à  une dérivée partielle par rapport à chaque entrée du module). Le calcul se fait sur les valeurs du dernier appel de **forward**.\n",
    "\n",
    "Par exemple, pour la fonction d'addition  **add(x,y)**, **add.forward(x,y)** renverra **x+y** (l'appel de la fonction est équivalent à l'appel de **forward**) et **add.backward(1)** renverra le couple **(1,1)** (la dérivée par rapport à x, et celle par rapport à y) .\n",
    "\n",
    "\n",
    "\n",
    "En pratique, ce ne sont pas les méthodes de ces fonctions qui sont utilisées, mais des méthodes équivalentes sur les tenseurs. La méthode **backward** d'un tenseur permet de rétro-propager le calcul du gradient sur toutes les variables qui ont servies à son calcul.\n",
    "\n",
    "La valeur du gradient pour chaque dérivée partielle se trouve dans l'attribut **grad** de la variable concernée.\n",
    "\n",
    "Comme c'est un mécanisme lourd, l'autograd n'est pas activé par défaut pour une variable. Afin de l'activer, il faut mettre le flag **requires_grad** de cette variable à vrai. Dès lors, tout calcul qui utilise cette variable sera enregistré dans le graphe de calcul et le gradient sera disponible.\n",
    "\n",
    "\n",
    "Exemple :"
   ]
  },
  {
   "cell_type": "code",
   "execution_count": 4,
   "metadata": {
    "colab": {
     "base_uri": "https://localhost:8080/"
    },
    "executionInfo": {
     "elapsed": 7,
     "status": "ok",
     "timestamp": 1700496820051,
     "user": {
      "displayName": "Lau re",
      "userId": "03302099944040145915"
     },
     "user_tz": -60
    },
    "id": "J_mYVeXMfsTV",
    "outputId": "2e6001f5-b1ed-4d8d-ba8b-e6fec033aa84"
   },
   "outputs": [
    {
     "name": "stdout",
     "output_type": "stream",
     "text": [
      "Graphe de calcul ?  False\n",
      "Dérivée de z/a :  2.0  z/b : 1.0\n",
      "Dérivée de z/a :  5.0  z/b : 0.0\n",
      "Erreur :  element 0 of tensors does not require grad and does not have a grad_fn\n"
     ]
    }
   ],
   "source": [
    "a = torch.tensor(1.)\n",
    "# Par défaut, requires_grad est à False\n",
    "print(\"Graphe de calcul ? \",a.requires_grad)\n",
    "# On peut demander à ce que le graphe de calcul soit retenu\n",
    "a.requires_grad = True\n",
    "# Ou lors de la création du tenseur directement\n",
    "b = torch.tensor(2.,requires_grad=True)\n",
    "z = 2*a + b\n",
    "# Calcul des dérivées partielles par rapport à z\n",
    "z.backward()\n",
    "a_grad=a.grad\n",
    "print(\"Dérivée de z/a : \", a_grad.item(),\" z/b :\", b.grad.item())\n",
    "z=5*a-2*b\n",
    "a_grad.zero_()\n",
    "z.backward()\n",
    "print(\"Dérivée de z/a : \", a_grad.item(),\" z/b :\", b.grad.zero_().item())\n",
    "# Si on a oublié de demander le graphe de calcul :\n",
    "a, b = torch.tensor(1.),torch.tensor(2.)\n",
    "z = 2*a+b\n",
    "try:\n",
    "  z.backward()\n",
    "except Exception as e:\n",
    "  print(\"Erreur : \", e)"
   ]
  },
  {
   "cell_type": "markdown",
   "metadata": {
    "id": "eApYmHIZa917"
   },
   "source": [
    "### <span class=\"alert-success\">     Exercice :  Utilisation de backward     </div>\n",
    "* Implémentez (en une ligne) la fonction de coût aux moindres carrés $MSE(\\hat{y},y)=\\frac{1}{2N} \\sum_{i=1}^N\\|\\hat{y_i}-y_i\\|^2$ où $\\hat{y},y$ sont deux matrices de taille $N\\times d$, et $y_i,\\hat{y_i}$ les $i$-èmes vecteurs lignes des matrices.\n",
    "\n",
    "Vérifiez bien en début de code que $\\hat{y}$ et $y$ sont des matrices et non pas des vecteurs, pour ne pas avoir d'erreur lors du broadcasting.\n",
    "\n",
    "* Engendrez **y,yhat** deux matrices aléatoires de taille $(1,5)$.\n",
    "* Calculez **MSE(y,yhat)** et l'afficher\n",
    "* Calculez à la main le gradient de **MSE** par rapport à **y**, **yhat**\n",
    "* Calculez grâce à pytorch le gradient de **MSE** par rapport à **y** et **yhat** et vérifier le résultat. Observez la dimension de sortie, est-elle bien compatible avec la taille de **y** et **yhat** ?\n",
    "* Appelez une deuxième fois **MSE** sur les mêmes vecteurs et la méthode **backward**. Qu'observez vous pour le gradient ? Comment l'expliquez vous ?"
   ]
  },
  {
   "cell_type": "code",
   "execution_count": 5,
   "metadata": {
    "id": "4Rd37M_3gkqu"
   },
   "outputs": [
    {
     "name": "stdout",
     "output_type": "stream",
     "text": [
      "tensor([[0.2750, 0.2616, 0.7931, 0.6965, 0.0520]])\n",
      "tensor([[0.7875, 0.8702, 0.0545, 0.6153, 0.6107]])\n",
      "tensor(0.6119, grad_fn=<DivBackward0>)\n",
      "Y derive partielle [[-0.20941734313964844, -0.24869222939014435, 0.3017883598804474, 0.03316626325249672, -0.22829870879650116]]\n",
      "Y_hat derivee partielle [[0.20941734313964844, 0.24869222939014435, -0.3017883598804474, -0.03316626325249672, 0.22829870879650116]]\n"
     ]
    }
   ],
   "source": [
    "def MSE(y,y_hat):\n",
    "    #print(y.size())\n",
    "    n=len(y)\n",
    "    norm=torch.linalg.norm(y-y_hat)\n",
    "\n",
    "    return norm/(2*n)\n",
    "\n",
    "y=torch.rand(1,5)\n",
    "print(y)\n",
    "y_hat=torch.rand(1,5)\n",
    "print(y_hat)\n",
    "y.requires_grad=True\n",
    "y_hat.requires_grad=True\n",
    "mse=MSE(y,y_hat)\n",
    "print(mse)\n",
    "mse.backward()\n",
    "print(\"Y derive partielle\",y.grad.tolist())\n",
    "print(\"Y_hat derivee partielle\",y_hat.grad.tolist())"
   ]
  },
  {
   "cell_type": "markdown",
   "metadata": {},
   "source": [
    "La derivé partielle de Y est égal à l'inverse de Y_hat.La valeur de dérive est la diff entre  Y et Y_hat, donc on peut utiliser cette fonction pour obtenir une approximation de la dérivée partielle de Y en utilisant les données de Y et Y_hat."
   ]
  },
  {
   "cell_type": "markdown",
   "metadata": {
    "id": "JxgCbApIgU5X"
   },
   "source": [
    "\n",
    "### <span class=\"alert-success\"> Exercice :   Régression linéaire en pytorch </span>\n",
    "\n",
    "* Définissez la fonction **flineaire(x,w,b)** fonction linéaire qui calcule $f(x,w,b)=x.w^t+b$  avec $x\\in \\mathbb{R}^{{n\\times d}},~w\\in\\mathbb{R}^{1,d}, b\\in \\mathbb{R}$\n",
    "* Ecrivez le code de **descente_gradient(datax,datay,loss, eps, epochs)** pour réaliser une descente de gradient sur les données **datax, datay** avec le coût **loss**, un pas de gradient **eps** et un nombre d'itérations **epochs**. Elle doit renvoyer les paramètre **w** et **b** optimaux : $$w^∗,b^∗=argmin_{w,b}\\frac{1}{N} \\sum_{i=1}^N loss(f(x^i,w,b),y^i)$$\n",
    "\n",
    "Pour tester votre code, utilisez soit les données simulées du TME2, soit le jeu de données très classique *Boston*, le prix des loyers à Boston en fonction de caractéristiques socio-économiques des quartiers. Le code ci-dessous permet de les charger.\n",
    "\n",
    "* Visualisez la courbe d'erreur en fonction du nombre d'itérations."
   ]
  },
  {
   "cell_type": "code",
   "execution_count": 6,
   "metadata": {},
   "outputs": [
    {
     "name": "stdout",
     "output_type": "stream",
     "text": [
      "Nombre d'exemples :  20640 Dimension :  8\n",
      "Nom des attributs :  MedInc, HouseAge, AveRooms, AveBedrms, Population, AveOccup, Latitude, Longitude\n",
      "tensor([[ 8.3252e+00,  4.1000e+01,  6.9841e+00,  1.0238e+00,  3.2200e+02,\n",
      "          2.5556e+00,  3.7880e+01, -1.2223e+02],\n",
      "        [ 8.3014e+00,  2.1000e+01,  6.2381e+00,  9.7188e-01,  2.4010e+03,\n",
      "          2.1098e+00,  3.7860e+01, -1.2222e+02],\n",
      "        [ 7.2574e+00,  5.2000e+01,  8.2881e+00,  1.0734e+00,  4.9600e+02,\n",
      "          2.8023e+00,  3.7850e+01, -1.2224e+02],\n",
      "        [ 5.6431e+00,  5.2000e+01,  5.8174e+00,  1.0731e+00,  5.5800e+02,\n",
      "          2.5479e+00,  3.7850e+01, -1.2225e+02],\n",
      "        [ 3.8462e+00,  5.2000e+01,  6.2819e+00,  1.0811e+00,  5.6500e+02,\n",
      "          2.1815e+00,  3.7850e+01, -1.2225e+02]])\n",
      "Nombre d'exemples :  20640 Dimension :  8\n",
      "Nom des attributs :  MedInc, HouseAge, AveRooms, AveBedrms, Population, AveOccup, Latitude, Longitude\n",
      "tensor(1.) tensor(-1.) tensor(1.) tensor(-1.)\n"
     ]
    }
   ],
   "source": [
    "\n",
    "## Chargement des données Boston et transformation en tensor.\n",
    "from sklearn.datasets import fetch_california_housing\n",
    "housing = fetch_california_housing(data_home=\"./data/\") ## chargement des données\n",
    "housing_x = torch.tensor(housing['data'],dtype=torch.float) # penser à typer les données pour éliminer les incertitudes\n",
    "housing_y = torch.tensor(housing['target'],dtype=torch.float)\n",
    "print(\"Nombre d'exemples : \",housing_x.size(0), \"Dimension : \",housing_x.size(1))\n",
    "print(\"Nom des attributs : \", \", \".join(housing['feature_names']))\n",
    "\n",
    "print(housing_x[:5])\n",
    "\n",
    "print(\"Nombre d'exemples : \",housing_x.size(0), \"Dimension : \",housing_x.size(1))\n",
    "print(\"Nom des attributs : \", \", \".join(housing['feature_names']))\n",
    "\n",
    "# On centre norme les données, sinon... Testez pour voir !\n",
    "housing_x = 2*(housing_x-housing_x.min(0)[0])/(housing_x.max(0)[0]-housing_x.min(0)[0])-1\n",
    "housing_y = 2*(housing_y-housing_y.min(0)[0])/(housing_y.max(0)[0]-housing_y.min(0)[0])-1\n",
    "print(housing_x.max(),housing_x.min(),housing_y.max(),housing_y.min())"
   ]
  },
  {
   "cell_type": "code",
   "execution_count": 7,
   "metadata": {
    "colab": {
     "base_uri": "https://localhost:8080/"
    },
    "executionInfo": {
     "elapsed": 2149,
     "status": "ok",
     "timestamp": 1700496822197,
     "user": {
      "displayName": "Lau re",
      "userId": "03302099944040145915"
     },
     "user_tz": -60
    },
    "id": "dArOgSWNTVvb",
    "outputId": "3c737f4c-2336-4f58-ab16-31c6b8e53f35"
   },
   "outputs": [],
   "source": [
    "def flineaire(x,w,b):\n",
    "    return torch.matmul(x,w.t())+b"
   ]
  },
  {
   "cell_type": "code",
   "execution_count": 8,
   "metadata": {},
   "outputs": [],
   "source": [
    "def descente_gradient(datax, datay, loss, eps, epochs):\n",
    "    w = torch.rand((1,datax.shape[1]), requires_grad=True)\n",
    "    b = torch.rand(1, requires_grad=True)\n",
    "    losses = []\n",
    "    for e in range(epochs):\n",
    "        yhat = flineaire(datax,w,b)\n",
    "        l = loss(yhat, datay)\n",
    "        losses.append(l.item())\n",
    "        l.backward()\n",
    "        w.data = w.data - eps*w.grad\n",
    "        b.data = b.data - eps*b.grad\n",
    "        w.grad.zero_()\n",
    "        b.grad.zero_()\n",
    "    return w, b, losses"
   ]
  },
  {
   "cell_type": "code",
   "execution_count": 13,
   "metadata": {},
   "outputs": [],
   "source": [
    "w_opti,b_opti,liste_erreur=descente_gradient(housing_x,housing_y,MSE,0.1,50)\n",
    "#w = torch.rand((1,housing_x.shape[1]), requires_grad=True)\n",
    "#b = torch.rand(1, requires_grad=True)\n",
    "#yhat=flineaire(housing_x,w,b)\n",
    "#print(MSE(yhat,housing_y))"
   ]
  },
  {
   "cell_type": "code",
   "execution_count": 14,
   "metadata": {
    "colab": {
     "base_uri": "https://localhost:8080/",
     "height": 483
    },
    "executionInfo": {
     "elapsed": 403,
     "status": "ok",
     "timestamp": 1700496822595,
     "user": {
      "displayName": "Lau re",
      "userId": "03302099944040145915"
     },
     "user_tz": -60
    },
    "id": "sLKQ7Z1dECls",
    "outputId": "4f7b28b6-721c-42af-e8af-ea823a9c073c"
   },
   "outputs": [
    {
     "data": {
      "image/png": "[encoded data removed]",
      "text/plain": [
       "<Figure size 640x480 with 1 Axes>"
      ]
     },
     "metadata": {},
     "output_type": "display_data"
    }
   ],
   "source": [
    "#print(liste_erreur)\n",
    "\n",
    "def plot_loss(list_erreur):\n",
    "    list_i=[i for i in range(len(list_erreur))]\n",
    "    plt.plot(list_i, list_erreur)\n",
    "    plt.xlabel(\"Le nombre d'iter\")\n",
    "    plt.ylabel(\"Le taux d'erreur\")\n",
    "    plt.title(\"Taux d'erreur en fonction de nombre d'iter\")\n",
    "    plt.show()\n",
    "\n",
    "plot_loss(liste_erreur)"
   ]
  },
  {
   "cell_type": "markdown",
   "metadata": {
    "id": "WRwqLJPRIpXu"
   },
   "source": [
    "\n",
    "## Optimiseur\n",
    "Pytorch inclut une classe très utile pour la descente de gradient, [torch.optim](https://pytorch.org/docs/stable/optim.html), qui permet :\n",
    "* d'économiser quelques lignes de codes\n",
    "* d'automatiser la mise-à-jour des paramètres\n",
    "* d'abstraire le type de descente de gradient utilisé (sgd,adam, rmsprop, ...)\n",
    "\n",
    "Une liste de paramètres à optimiser est passée à l'optimiseur lors de l'initialisation. La méthode **zero_grad()** permet de remettre le gradient à zéro et la méthode **step()** permet de faire une mise-à-jour des paramètres.\n",
    "\n",
    "Un exemple de code  utilisant l'optimiseur est donné ci-dessous. \n",
    "\n",
    "Ré-implémentez la descente de gradient en utilisant un optimiseur. \n",
    "\n",
    "L'optimiseur le plus utilisé  est **Adam** qui permet une pas adaptatif en fonction de l'historique. Sur ce problème simple vous ne verrez pas de différence, vous pourrez comparer par la suite **SGD** et **Adam**.\n"
   ]
  },
  {
   "cell_type": "code",
   "execution_count": 12,
   "metadata": {},
   "outputs": [
    {
     "name": "stdout",
     "output_type": "stream",
     "text": [
      "W init :  tensor([ 1.2191, -0.8335, -0.3771, -0.4172, -2.5413,  1.9027,  2.0556, -1.0787,\n",
      "         1.9545,  0.5517, -1.3243, -0.7938, -0.6193,  1.2500,  0.3397,  0.7317,\n",
      "         0.6692, -1.2521,  0.1319, -1.2615, -0.4854,  3.1033, -0.9790,  0.4529,\n",
      "        -1.1298,  0.2787,  0.8150, -0.8331,  0.2887,  0.4836, -1.1031, -0.1386,\n",
      "         1.3198,  0.1629,  2.0648,  1.1320,  1.1275,  0.0097, -0.8588, -0.2515,\n",
      "         1.1378,  0.2290, -0.8099, -0.2420,  0.4881,  1.0140,  0.9136,  2.0883,\n",
      "         1.2352, -1.3352, -0.2584, -0.5380,  0.4404,  0.1370,  0.7786,  0.1479,\n",
      "        -0.7567, -0.5934,  0.7389, -0.0059,  0.0501, -0.0699,  2.3412,  1.0473,\n",
      "         0.6430, -0.2149, -1.0464, -0.5456,  2.6090,  0.7417, -0.3685,  0.0557,\n",
      "         1.6844, -0.1354, -0.2044, -2.2503,  1.4002,  0.1946, -0.4969,  0.1051,\n",
      "         0.2053, -0.5957, -0.3190,  0.2076,  0.1193,  1.1624, -0.0754,  0.7662,\n",
      "         0.0436, -1.8016, -0.1685, -0.4586, -0.5893,  0.2583, -0.7461,  0.6087,\n",
      "        -0.7692,  0.3738,  0.1025,  0.3519], requires_grad=True)\n",
      "gradient :  tensor([ 2.4383, -1.6670, -0.7542, -0.8344, -5.0827,  3.8053,  4.1111, -2.1575,\n",
      "         3.9091,  1.1035, -2.6486, -1.5875, -1.2386,  2.5000,  0.6793,  1.4635,\n",
      "         1.3384, -2.5043,  0.2638, -2.5230, -0.9707,  6.2066, -1.9579,  0.9057,\n",
      "        -2.2596,  0.5575,  1.6301, -1.6662,  0.5774,  0.9671, -2.2063, -0.2772,\n",
      "         2.6397,  0.3258,  4.1296,  2.2639,  2.2551,  0.0194, -1.7176, -0.5030,\n",
      "         2.2755,  0.4580, -1.6197, -0.4840,  0.9761,  2.0280,  1.8272,  4.1766,\n",
      "         2.4704, -2.6703, -0.5168, -1.0761,  0.8807,  0.2740,  1.5572,  0.2958,\n",
      "        -1.5135, -1.1867,  1.4779, -0.0117,  0.1003, -0.1398,  4.6823,  2.0946,\n",
      "         1.2860, -0.4297, -2.0927, -1.0912,  5.2181,  1.4833, -0.7369,  0.1114,\n",
      "         3.3689, -0.2709, -0.4088, -4.5006,  2.8005,  0.3893, -0.9939,  0.2101,\n",
      "         0.4105, -1.1913, -0.6379,  0.4152,  0.2386,  2.3249, -0.1509,  1.5324,\n",
      "         0.0872, -3.6031, -0.3371, -0.9171, -1.1786,  0.5166, -1.4922,  1.2174,\n",
      "        -1.5385,  0.7476,  0.2049,  0.7038])\n",
      "w corrigé :  tensor([ 1.2181, -0.8325, -0.3761, -0.4162, -2.5403,  1.9017,  2.0546, -1.0777,\n",
      "         1.9535,  0.5507, -1.3233, -0.7928, -0.6183,  1.2490,  0.3387,  0.7307,\n",
      "         0.6682, -1.2511,  0.1309, -1.2605, -0.4844,  3.1023, -0.9780,  0.4519,\n",
      "        -1.1288,  0.2777,  0.8140, -0.8321,  0.2877,  0.4826, -1.1021, -0.1376,\n",
      "         1.3188,  0.1619,  2.0638,  1.1310,  1.1265,  0.0087, -0.8578, -0.2505,\n",
      "         1.1368,  0.2280, -0.8089, -0.2410,  0.4871,  1.0130,  0.9126,  2.0873,\n",
      "         1.2342, -1.3342, -0.2574, -0.5370,  0.4394,  0.1360,  0.7776,  0.1469,\n",
      "        -0.7557, -0.5924,  0.7379, -0.0049,  0.0491, -0.0689,  2.3402,  1.0463,\n",
      "         0.6420, -0.2139, -1.0454, -0.5446,  2.6080,  0.7407, -0.3675,  0.0547,\n",
      "         1.6834, -0.1344, -0.2034, -2.2493,  1.3992,  0.1936, -0.4959,  0.1041,\n",
      "         0.2043, -0.5947, -0.3180,  0.2066,  0.1183,  1.1614, -0.0744,  0.7652,\n",
      "         0.0426, -1.8006, -0.1675, -0.4576, -0.5883,  0.2573, -0.7451,  0.6077,\n",
      "        -0.7682,  0.3728,  0.1015,  0.3509], requires_grad=True)\n",
      "None\n"
     ]
    }
   ],
   "source": [
    "w = torch.randn(100,dtype=torch.float,requires_grad=True)\n",
    "b = torch.randn(1,dtype=torch.float,requires_grad=True)\n",
    "print(\"W init : \",w)\n",
    "## on optimise selon w et b.  lr est le pas du gradient\n",
    "optim = torch.optim.Adam(params=[w,b],lr=1e-3)\n",
    "auhasard = (w.dot(w)+b)\n",
    "#Mise à zéro du gradient\n",
    "optim.zero_grad()\n",
    "# Calcul du gradient\n",
    "auhasard.backward()\n",
    "print(\"gradient : \",w.grad)\n",
    "#Mise à jour des paramètres\n",
    "optim.step()\n",
    "print(\"w corrigé : \",w)\n",
    "#Mise à zéro du gradient\n",
    "optim.zero_grad()\n",
    "print(w.grad)"
   ]
  },
  {
   "cell_type": "markdown",
   "metadata": {},
   "source": [
    "\n",
    "Ré-implémentez la fonction de descente de gradient en utilisant un optimiseur.\n",
    "\n",
    "L'optimiseur le plus utilisé  est **Adam** qui permet une pas adaptatif en fonction de l'historique. Sur ce problème simple vous ne verrez pas de différence, vous pourrez comparer par la suite **SGD** et **Adam**.\n"
   ]
  },
  {
   "cell_type": "code",
   "execution_count": 15,
   "metadata": {
    "colab": {
     "base_uri": "https://localhost:8080/"
    },
    "executionInfo": {
     "elapsed": 6645,
     "status": "ok",
     "timestamp": 1700496829225,
     "user": {
      "displayName": "Lau re",
      "userId": "03302099944040145915"
     },
     "user_tz": -60
    },
    "id": "dftaEnaoIupc",
    "outputId": "5521979c-f770-4e67-e985-83ab12147322"
   },
   "outputs": [],
   "source": [
    "w = torch.randn(100,dtype=torch.float,requires_grad=True)\n",
    "b = torch.randn(1,dtype=torch.float,requires_grad=True)\n",
    "#print(\"W init : \",w)\n",
    "## on optimise selon w et b.  lr est le pas du gradient\n",
    "optim = torch.optim.SGD(params=[w,b],lr=1e-3)\n",
    "auhasard = (w.dot(w)+b)\n",
    "#Mise à zéro du gradient\n",
    "optim.zero_grad()\n",
    "# Calcul du gradient\n",
    "auhasard.backward()\n",
    "#print(\"gradient : \",w.grad)\n",
    "#Mise à jour des paramètres\n",
    "optim.step()\n",
    "#print(\"w corrigé : \",w)\n",
    "#Mise à zéro du gradient\n",
    "optim.zero_grad()\n",
    "#print(w.grad)"
   ]
  },
  {
   "cell_type": "code",
   "execution_count": 17,
   "metadata": {},
   "outputs": [],
   "source": [
    "def descente_gradient_optimiseur(datax, datay, loss, eps, epochs):\n",
    "    w = torch.rand((1,datax.shape[1]), requires_grad=True)\n",
    "    b = torch.rand(1, requires_grad=True)\n",
    "    optim = torch.optim.SGD(params=[w,b],lr=eps)\n",
    "    losses = []\n",
    "    for e in range(epochs):\n",
    "        yhat = flineaire(datax,w,b)\n",
    "        l = loss(yhat, datay)\n",
    "        losses.append(l.item())\n",
    "        l.backward()\n",
    "        optim.step()\n",
    "        w.data = w.data - eps*w.grad\n",
    "        b.data = b.data - eps*b.grad\n",
    "        optim.zero_grad()\n",
    "    return w, b, losses"
   ]
  },
  {
   "cell_type": "code",
   "execution_count": 18,
   "metadata": {},
   "outputs": [
    {
     "data": {
      "image/png": "[encoded data removed]",
      "text/plain": [
       "<Figure size 640x480 with 1 Axes>"
      ]
     },
     "metadata": {},
     "output_type": "display_data"
    }
   ],
   "source": [
    "w,b,loss=descente_gradient_optimiseur(housing_x,housing_y,MSE,0.1,50)\n",
    "plot_loss(loss)"
   ]
  },
  {
   "cell_type": "markdown",
   "metadata": {
    "id": "MHY1ffLNJxsb"
   },
   "source": [
    "\n",
    "## DataLoader\n",
    "Le <a href=https://pytorch.org/docs/stable/data.html>**DataLoader**</a> et la classe associée <a href=https://pytorch.org/docs/stable/data.html#torch.utils.data.Dataset> **Dataset**</a>  permettent en particulier de :\n",
    "* charger des données\n",
    "* pré-processer les données\n",
    "* de gérer les mini-batchs (sous-ensembles sur lequel on effectue une descente de gradient).\n",
    "\n",
    "La classe **Dataset** est une classe abstraite qui nécessite l'implémentation que d'une seule méthode, ```__getitem__(self,index)``` : elle renvoie le i-ème objet du jeu de données (généralement un couple *(exemple,label)*.\n",
    "\n",
    "La classe **TensorDataset** est l'instanciation la plus courante d'un **Dataset**, elle permet de créer un objet **Dataset** à partir d'une liste de tenseurs qui renvoie pour un index $i$ donné le tuple contenant les $i$-èmes ligne de chaque tenseur.\n",
    "\n",
    "La classe **DataLoader** permet essentiellement de randomiser et de constituer des mini-batchs de façon simple à partir d'une instance de **Dataset**. Chaque mini-batch est constitué d'exemples tirés aléatoirement dans le **Dataset** passé en paramètre et mis bout à bout dans des tenseurs. La méthode ```collate_fn(*args)``` est utilisée pour cela (nous ne l'utiliserons pas pour l'instant). C'est ce générateur qui est généralement parcouru lors de l'apprentissage à chaque itération d'optimisation.\n",
    "\n",
    "Voici un exemple de code pour utiliser le DataLoader :\n"
   ]
  },
  {
   "cell_type": "code",
   "execution_count": 38,
   "metadata": {
    "id": "Hg-ziayDJsbS"
   },
   "outputs": [],
   "source": [
    "from torch.utils.data import DataLoader,TensorDataset, Dataset\n",
    "\n",
    "## Création d'un dataset à partir des deux tenseurs d'exemples et de labels\n",
    "train_data = TensorDataset(housing_x,housing_y)\n",
    "\n",
    "## On peut indexer et connaitre la longueur d'un dataset\n",
    "#print(len(train_data),train_data[5])\n",
    "\n",
    "## Création d'un DataLoader\n",
    "## tailles de mini-batch de 16, shuffle=True permet de mélanger les exemples\n",
    "# loader est un itérateur sur les mini-batchs des données\n",
    "loader = DataLoader(train_data, batch_size=32,shuffle=True )\n",
    "\n",
    "#Premier batch (aléatoire) du dataloader :\n",
    "#print(len(iter(loader)),next(iter(loader)))\n",
    "for x,y in loader:\n",
    "    #print(x,y)\n",
    "    break\n",
    "\n"
   ]
  },
  {
   "cell_type": "markdown",
   "metadata": {},
   "source": [
    "Modifiez votre code pour utiliser un Dataloader : **descente_gradient(loader, loss, eps, epochs) **.\n",
    "\n",
    "Oubliez pas qu'une époque correspond à la prise en compte de tous les exemples une fois. Le coût n'est généralement enregistré qu'à la fin d'une époque, cumulé sur tous les batchs. Vous pouvez utiliser la fonction **item()** d'un tenseur pour avoir accès au scalaire sans garder de trace du graphe de calcul.\n",
    "\n",
    "Testez et observez les différences en fonction de la taille des mini-batchs. Est-ce plus rapide ou plus lent que la version batch ? pourquoi ?"
   ]
  },
  {
   "cell_type": "code",
   "execution_count": 39,
   "metadata": {},
   "outputs": [],
   "source": [
    "def descente_gradient_loader(loader, loss, eps, epochs):\n",
    "    datax,datay=next(iter(loader))\n",
    "    w = torch.rand((1,datax.shape[1]), requires_grad=True)\n",
    "    b = torch.rand(1, requires_grad=True)\n",
    "    optim = torch.optim.SGD(params=[w,b],lr=eps)\n",
    "    losses = []\n",
    "    for e in range(epochs):\n",
    "        yhat = flineaire(datax,w,b)\n",
    "        l = loss(yhat, datay)\n",
    "        losses.append(l.item())\n",
    "        l.backward()\n",
    "        optim.step()\n",
    "        w.data = w.data - eps*w.grad\n",
    "        b.data = b.data - eps*b.grad\n",
    "        optim.zero_grad()\n",
    "    return w, b, losses"
   ]
  },
  {
   "cell_type": "code",
   "execution_count": 40,
   "metadata": {},
   "outputs": [
    {
     "data": {
      "image/png": "[encoded data removed]",
      "text/plain": [
       "<Figure size 640x480 with 1 Axes>"
      ]
     },
     "metadata": {},
     "output_type": "display_data"
    }
   ],
   "source": [
    "w,b,loss=descente_gradient_loader(loader,MSE,0.1,50)\n",
    "plot_loss(loss)"
   ]
  },
  {
   "cell_type": "markdown",
   "metadata": {
    "id": "KKs1Q5pPKf-2"
   },
   "source": [
    "\n",
    "## TensorBoard\n",
    "\n",
    "Durant l'apprentissage de vos modèles, il est agréable de visualiser de quelle manière évolue le coût, la précision sur l'ensemble de validation ainsi que d'autres éléments. TensorFlow dispose d'un outil très apprécié, le TensorBoard, qui permet de gérer très facilement de tels affichages. On retrouve tensorboard dans **Pytorch** dans ```torch.utils.ensorboard``` qui permet de faire le pont de pytorch vers cet outil.\n",
    "\n",
    "Le principe est le suivant :\n",
    "* tensorboard fait tourner en fait un serveur web local qui va lire les fichiers de log dans un répertoire local. L'affichage se fait dans votre navigateur à partir d'un lien fourni lors du lancement de tensorboard.\n",
    "* Les éléments que vous souhaitez visualiser (scalaire, graphes, distributions, histogrammes) sont écrits dans le fichier de log à partir d'un objet **SummaryWriter** .\n",
    "* la méthode ```add_scalar(tag, valeur, global_step)``` permet de logger une valeur à un step donné, ```add_scalar(tag, tag_scalar_dic, global_step)``` un ensemble de valeurs par l'intermédiaire du dictionnaire ```tag_scalar_dic``` (un regroupement des scalaires est fait en fonction du tag passé, chaque sous-tag séparé par un **/**).\n",
    "\n",
    "Il existe d'autres méthodes ```add_XXX``` pour visualiser par exemple des images, des histogrammes (cf <a href=https://pytorch.org/docs/stable/tensorboard.html>la doc </a>).\n",
    "\n",
    "Le code suivant illustre une manière de l'utiliser.\n",
    "Pour information, il est bien plus agréable de l'utiliser en dehors d'un notebook que à l'intérieur. "
   ]
  },
  {
   "cell_type": "code",
   "execution_count": 41,
   "metadata": {
    "id": "ZG9P8sKPKdcq"
   },
   "outputs": [
    {
     "data": {
      "text/html": [
       "\n",
       "      <iframe id=\"tensorboard-frame-598a4e4420c3031a\" width=\"100%\" height=\"800\" frameborder=\"0\">\n",
       "      </iframe>\n",
       "      <script>\n",
       "        (function() {\n",
       "          const frame = document.getElementById(\"tensorboard-frame-598a4e4420c3031a\");\n",
       "          const url = new URL(\"/\", window.location);\n",
       "          const port = 6006;\n",
       "          if (port) {\n",
       "            url.port = port;\n",
       "          }\n",
       "          frame.src = url;\n",
       "        })();\n",
       "      </script>\n",
       "    "
      ],
      "text/plain": [
       "<IPython.core.display.HTML object>"
      ]
     },
     "metadata": {},
     "output_type": "display_data"
    },
    {
     "name": "stdout",
     "output_type": "stream",
     "text": [
      "Selecting TensorBoard with logdir /tmp/logs/module1 (started 0:00:00 ago; port 6006, pid 17856).\n"
     ]
    },
    {
     "data": {
      "text/html": [
       "\n",
       "      <iframe id=\"tensorboard-frame-939ac15c5fd729b9\" width=\"100%\" height=\"800\" frameborder=\"0\">\n",
       "      </iframe>\n",
       "      <script>\n",
       "        (function() {\n",
       "          const frame = document.getElementById(\"tensorboard-frame-939ac15c5fd729b9\");\n",
       "          const url = new URL(\"http://localhost\");\n",
       "          const port = 6006;\n",
       "          if (port) {\n",
       "            url.port = port;\n",
       "          }\n",
       "          frame.src = url;\n",
       "        })();\n",
       "      </script>\n",
       "    "
      ],
      "text/plain": [
       "<IPython.core.display.HTML object>"
      ]
     },
     "metadata": {},
     "output_type": "display_data"
    }
   ],
   "source": [
    "#Spécial notebook, les commandes suivantes permettent de lancer tensorboard\n",
    "# En dehors du notebook, il faut le lancer à la main dans le shell :\n",
    "# tensorboard --logdir logs\n",
    "TB_PATH = \"/tmp/logs/module1\"\n",
    "import os\n",
    "os.makedirs(TB_PATH,exist_ok=True)\n",
    "%load_ext tensorboard\n",
    "%tensorboard --logdir {TB_PATH}\n",
    "from torch.utils.tensorboard import SummaryWriter\n",
    "\n",
    "# Spécial notebook : pour avoir les courbes qui s'affichent dans le notebook,\n",
    "# sinon aller à l'adresse web local indiquée lors du lancement de tensorboard\n",
    "from tensorboard import notebook\n",
    "notebook.display()\n",
    "# Où seront stockés les logs.\n",
    "summary = SummaryWriter(f\"{TB_PATH}/test\")\n",
    "\n",
    "mseloss = torch.nn.MSELoss()\n",
    "for e in range(1000):\n",
    "    summary.add_scalar(\"loss/train\",torch.randn(1,1).item(),e)\n",
    "    summary.add_scalar(\"loss/test\",torch.randn(1,1).item(),e)\n",
    "  "
   ]
  },
  {
   "cell_type": "markdown",
   "metadata": {},
   "source": [
    "Intégrez Tensorboard à votre code et testez le."
   ]
  },
  {
   "cell_type": "code",
   "execution_count": null,
   "metadata": {},
   "outputs": [],
   "source": []
  }
 ],
 "metadata": {
  "accelerator": "GPU",
  "colab": {
   "provenance": []
  },
  "kernelspec": {
   "display_name": "Python 3 (ipykernel)",
   "language": "python",
   "name": "python3"
  },
  "language_info": {
   "codemirror_mode": {
    "name": "ipython",
    "version": 3
   },
   "file_extension": ".py",
   "mimetype": "text/x-python",
   "name": "python",
   "nbconvert_exporter": "python",
   "pygments_lexer": "ipython3",
   "version": "3.10.11"
  }
 },
 "nbformat": 4,
 "nbformat_minor": 4
}
