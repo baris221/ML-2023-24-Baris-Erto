{
 "cells": [
  {
   "cell_type": "code",
   "execution_count": 19,
   "metadata": {},
   "outputs": [],
   "source": [
    "import numpy as np\n",
    "from Encapsulation import *\n",
    "from Linear import *\n",
    "from NonLinear import *\n",
    "from Loss import *\n",
    "from convolution import *\n",
    "from sklearn.preprocessing import OneHotEncoder, StandardScaler"
   ]
  },
  {
   "cell_type": "code",
   "execution_count": 20,
   "metadata": {},
   "outputs": [],
   "source": [
    "def load_usps(fn):\n",
    "    with open(fn,\"r\") as f:\n",
    "        f.readline()\n",
    "        data = [[float(x) for x in l.split()] for l in f if len(l.split())>2]\n",
    "    tmp=np.array(data)\n",
    "    return tmp[:,1:],tmp[:,0].astype(int)\n",
    "\n",
    "\n",
    "X_train, y_train = load_usps(\"data/USPS_train.txt\")\n",
    "X_test, y_test = load_usps(\"data/USPS_test.txt\")\n",
    "y_train = OneHotEncoder().fit_transform(y_train.reshape(-1, 1)).toarray()\n",
    "y_test = OneHotEncoder().fit_transform(y_test.reshape(-1, 1)).toarray()"
   ]
  },
  {
   "cell_type": "code",
   "execution_count": 21,
   "metadata": {},
   "outputs": [
    {
     "name": "stdout",
     "output_type": "stream",
     "text": [
      "(7291, 256)\n",
      "(7291, 10)\n"
     ]
    }
   ],
   "source": [
    "print(X_train.shape)\n",
    "print(y_train.shape)"
   ]
  },
  {
   "cell_type": "code",
   "execution_count": 22,
   "metadata": {},
   "outputs": [],
   "source": [
    "def normalize(data_x):\n",
    "    x_min=np.min(data_x)\n",
    "    x_max=np.max(data_x)\n",
    "    return (data_x-x_min)/(1.0*(x_max-x_min))"
   ]
  },
  {
   "cell_type": "code",
   "execution_count": 23,
   "metadata": {},
   "outputs": [],
   "source": [
    "X_train_norm=normalize(X_train)\n",
    "X_test_norm=normalize(X_test)\n"
   ]
  },
  {
   "cell_type": "code",
   "execution_count": 24,
   "metadata": {},
   "outputs": [
    {
     "name": "stderr",
     "output_type": "stream",
     "text": [
      "Epoch: 100%|██████████| 25/25 [04:05<00:00,  9.80s/it, train_loss=0.0769, train_score=0.984, test_loss=0.0797, test_score=0.968]\n",
      "Batch:   0%|          | 0/51 [00:02<?, ?it/s]\n"
     ]
    }
   ],
   "source": [
    "liste_coder=[Conv1D(3,1,32,1),MaxPool1D(2,2),Flatten(),Linear(4064,100),ReLU(),Linear(100,10)]\n",
    "\n",
    "network_usps=Sequential(liste_coder)\n",
    "optim_usps=Optim(network_usps,CrossEntropyLoss(),eps=0.001)\n",
    "results_df=optim_usps.SGD_eval(X_train_norm[:, :, np.newaxis],y_train,128,25)"
   ]
  },
  {
   "cell_type": "code",
   "execution_count": 25,
   "metadata": {},
   "outputs": [
    {
     "name": "stdout",
     "output_type": "stream",
     "text": [
      "Le test score est :  0.9327354260089686\n",
      "Le train score est :  0.9809353998079824\n"
     ]
    }
   ],
   "source": [
    "print(\"Le test score est : \",optim_usps.score(X_test[:, :, np.newaxis], y_test))\n",
    "print(\"Le train score est : \",optim_usps.score(X_train[:, :, np.newaxis], y_train))"
   ]
  }
 ],
 "metadata": {
  "kernelspec": {
   "display_name": "Python 3",
   "language": "python",
   "name": "python3"
  },
  "language_info": {
   "codemirror_mode": {
    "name": "ipython",
    "version": 3
   },
   "file_extension": ".py",
   "mimetype": "text/x-python",
   "name": "python",
   "nbconvert_exporter": "python",
   "pygments_lexer": "ipython3",
   "version": "3.10.11"
  }
 },
 "nbformat": 4,
 "nbformat_minor": 2
}
