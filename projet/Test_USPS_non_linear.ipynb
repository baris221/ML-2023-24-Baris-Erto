{
 "cells": [
  {
   "cell_type": "code",
   "execution_count": 1,
   "metadata": {},
   "outputs": [],
   "source": [
    "import numpy as np\n",
    "import  pandas as pd\n",
    "import seaborn as sns\n",
    "import matplotlib.pyplot as plt\n",
    "from Encapsulation import *\n",
    "from Linear import *\n",
    "from NonLinear import *\n",
    "from Loss import *\n",
    "from sklearn.preprocessing import OneHotEncoder, StandardScaler"
   ]
  },
  {
   "cell_type": "code",
   "execution_count": 2,
   "metadata": {},
   "outputs": [],
   "source": [
    "def load_usps(fn):\n",
    "    with open(fn,\"r\") as f:\n",
    "        f.readline()\n",
    "        data = [[float(x) for x in l.split()] for l in f if len(l.split())>2]\n",
    "    tmp=np.array(data)\n",
    "    return tmp[:,1:],tmp[:,0].astype(int)\n",
    "\n",
    "\n",
    "X_train, y_train = load_usps(\"data/USPS_train.txt\")\n",
    "X_test, y_test = load_usps(\"data/USPS_test.txt\")\n",
    "y_train_encode = OneHotEncoder().fit_transform(y_train.reshape(-1, 1)).toarray()\n",
    "y_test_encode = OneHotEncoder().fit_transform(y_test.reshape(-1, 1)).toarray()"
   ]
  },
  {
   "cell_type": "code",
   "execution_count": 6,
   "metadata": {},
   "outputs": [],
   "source": [
    "activation_list=[(TanH(),Sigmoid()),(TanH(),Softmax()),(TanH(),LogSoftmax()),(TanH(),ReLU())]\n",
    "score_list=[]"
   ]
  },
  {
   "cell_type": "code",
   "execution_count": 7,
   "metadata": {},
   "outputs": [
    {
     "name": "stderr",
     "output_type": "stream",
     "text": [
      "Epoch:   0%|          | 0/100 [00:00<?, ?it/s]"
     ]
    },
    {
     "name": "stderr",
     "output_type": "stream",
     "text": [
      "Epoch: 100%|██████████| 100/100 [00:22<00:00,  4.40it/s, train_loss=8.98e-5, train_score=0.999, test_loss=0.0239, test_score=0.971]\n",
      "Batch:   0%|          | 0/205 [00:00<?, ?it/s]\n",
      "Epoch: 100%|██████████| 100/100 [00:30<00:00,  3.25it/s, train_loss=4.96e-5, train_score=1, test_loss=0.0257, test_score=0.964]    \n",
      "Batch:   0%|          | 0/205 [00:00<?, ?it/s]\n",
      "Epoch: 100%|██████████| 100/100 [00:35<00:00,  2.83it/s, train_loss=0.0868, train_score=0.715, test_loss=2.76, test_score=0.675]\n",
      "Batch:   0%|          | 0/205 [00:00<?, ?it/s]\n",
      "Epoch: 100%|██████████| 100/100 [00:28<00:00,  3.57it/s, train_loss=0.0868, train_score=0.162, test_loss=2.76, test_score=0.178]\n",
      "Batch:   0%|          | 0/205 [00:00<?, ?it/s]\n"
     ]
    }
   ],
   "source": [
    "for (act1,act2) in activation_list:\n",
    "\n",
    "    encoder = [Linear(256,100),act1,Linear(100,10),act2]\n",
    "\n",
    "    network_usps=Sequential(encoder)\n",
    "    optim_usps=Optim(network_usps,BCELoss(),eps=1e-3)\n",
    "    results_df=optim_usps.SGD_eval(X_train,y_train_encode,32,100,True)\n",
    "    score=optim_usps.score(X_test,y_test_encode)\n",
    "    score_list.append(score)\n"
   ]
  },
  {
   "cell_type": "code",
   "execution_count": 9,
   "metadata": {},
   "outputs": [
    {
     "data": {
      "text/plain": [
       "[0.9362232187344295,\n",
       " 0.9377179870453413,\n",
       " 0.6666666666666666,\n",
       " 0.17887394120577976]"
      ]
     },
     "execution_count": 9,
     "metadata": {},
     "output_type": "execute_result"
    }
   ],
   "source": [
    "score_list"
   ]
  }
 ],
 "metadata": {
  "kernelspec": {
   "display_name": "Python 3",
   "language": "python",
   "name": "python3"
  },
  "language_info": {
   "codemirror_mode": {
    "name": "ipython",
    "version": 3
   },
   "file_extension": ".py",
   "mimetype": "text/x-python",
   "name": "python",
   "nbconvert_exporter": "python",
   "pygments_lexer": "ipython3",
   "version": "3.10.11"
  }
 },
 "nbformat": 4,
 "nbformat_minor": 2
}
