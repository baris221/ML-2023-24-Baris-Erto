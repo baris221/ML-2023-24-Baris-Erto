{
 "cells": [
  {
   "cell_type": "markdown",
   "metadata": {
    "id": "_TE2ItlsI956"
   },
   "source": [
    "# ML - TME 3 : Introduction à Pytorch\n",
    "\n",
    "\n",
    "Nicolas Baskiotis (nicolas.baskiotis@sorbonne-universite.fr)  -- MLIA/ISIR, Sorbonne Université\n"
   ]
  },
  {
   "cell_type": "markdown",
   "metadata": {
    "id": "TAER7frwJu9L"
   },
   "source": [
    "# Préambule\n",
    "\n",
    "Dans ce TME, vous allez principalement refaire ce que vous avez fait en TME2 mais sous PyTorch, et en remplaçant au fur et à mesure les blocs programmés à la main par les possibilités de PyTorch.\n",
    "\n",
    "Les lignes suivantes permettent d'importer pytorch et vérifier qu'un GPU est disponible."
   ]
  },
  {
   "cell_type": "code",
   "execution_count": 1,
   "metadata": {
    "colab": {
     "base_uri": "https://localhost:8080/"
    },
    "executionInfo": {
     "elapsed": 512,
     "status": "ok",
     "timestamp": 1700496819634,
     "user": {
      "displayName": "Lau re",
      "userId": "03302099944040145915"
     },
     "user_tz": -60
    },
    "id": "3Y9YOOHHhJKY",
    "outputId": "e7a2d50b-e003-4b81-ba6a-cddab0bfbc3e"
   },
   "outputs": [
    {
     "name": "stdout",
     "output_type": "stream",
     "text": [
      "La version de torch est :  1.10.1+cu113\n",
      "Le calcul GPU est disponible ?  False\n"
     ]
    }
   ],
   "source": [
    "import torch\n",
    "print(\"La version de torch est : \",torch.__version__)\n",
    "print(\"Le calcul GPU est disponible ? \", torch.cuda.is_available())\n",
    "\n",
    "import numpy as np\n",
    "import sklearn\n",
    "import matplotlib.pyplot as plt"
   ]
  },
  {
   "cell_type": "markdown",
   "metadata": {
    "id": "3WA5ZFwjkWKS"
   },
   "source": [
    "# Prise en main de Pytorch\n",
    "\n",
    "Cette partie est un tutoriel pour la prise en main de pytorch. N'hesitez pas à explorer et expérimenter les notions présentées."
   ]
  },
  {
   "cell_type": "markdown",
   "metadata": {
    "id": "u2LqFo3wzwYP"
   },
   "source": [
    "## Syntaxe\n",
    "\n",
    "Le principal objet manipulé sous Pytorch est **torch.Tensor** qui correspond à un tenseur mathématique (généralisation de la notion de matrice en $n$-dimensions), très proche dans l'utilisation de **numpy.array**.   Cet objet est optimisé pour les calculs sur GPU ce qui implique quelques contraintes plus importantes que sous **numpy**. En particulier :\n",
    "* le type du tenseur manipulé est très important et les conversions ne sont pas automatique (**FloatTensor** de type **torch.float**, **DoubleTensor** de type **torch.double**,  **ByteTensor** de type **torch.byte**, **IntTensor** de type **torch.int**, **LongTensor** de type **torch.long**). Pour un tenseur **t** La conversion se fait très simplement en utilisant les fonctions : **t.double()**, **t.float()**, **t.long()** ...\n",
    "* la plupart des opérations ont une version *inplace*, c'est-à-dire qui modifie le tenseur plutôt que de renvoyer un nouveau tenseur; elles sont suffixées par **_** (**add_** par exemple).\n",
    "\n",
    "N'hésitez pas à vous référez à la [documentation officielle](https://pytorch.org/docs/stable/tensors.html) pour la liste exhaustive des opérations.\n"
   ]
  },
  {
   "cell_type": "markdown",
   "metadata": {},
   "source": [
    "Les lignes suivantes ont pour objectif à vous faire prendre en main les tenseurs. Completez afin d'effectuer les opérations demandées."
   ]
  },
  {
   "cell_type": "code",
   "execution_count": 43,
   "metadata": {
    "cellView": "code",
    "colab": {
     "base_uri": "https://localhost:8080/"
    },
    "executionInfo": {
     "elapsed": 8,
     "status": "ok",
     "timestamp": 1700496820051,
     "user": {
      "displayName": "Lau re",
      "userId": "03302099944040145915"
     },
     "user_tz": -60
    },
    "id": "VZxNfy1b1u43",
    "outputId": "e1cc6a39-4820-4353-f596-1fbe813ee239"
   },
   "outputs": [
    {
     "name": "stdout",
     "output_type": "stream",
     "text": [
      "tensor([[-0.1844,  2.3018,  1.5392, -1.2032,  0.0080,  1.3574],\n",
      "        [-0.4947, -1.2434, -0.5235,  1.2695, -0.3566,  0.1612]])\n"
     ]
    }
   ],
   "source": [
    "# Création de tenseurs et caractéristiques\n",
    "liste_1, liste_2 = [1.,2.,3.], [2.,3.,4.]\n",
    "## Créez un tenseur à partir des listes liste_1 et liste_2\n",
    "tensor_1=torch.tensor([liste_1,liste_2])\n",
    "#print(tensor_1)\n",
    "\n",
    "## Créez un tenseur  tenseur rempli de 1 de taille 2x3x4\n",
    "tensor_2=torch.ones([2,3,4])\n",
    "#print(tensor_2)\n",
    "\n",
    "##  Créez tenseur de zéros de taille 2x3 de type float\n",
    "tensor_3=torch.zeros([2,3],dtype=float)\n",
    "#print(tensor_3)\n",
    "## Créez un tenseur de zéros de taille 2x3 puis remplissez le d'entiers aléatoires entre 10 et 15 (inplace)\n",
    "tensor_4=torch.zeros([2,3])\n",
    "tensor_4.random_(10,16)\n",
    "#print(tensor_4)\n",
    "\n",
    "##  Créez un tenseur a de taille 2x3 aléatoire suivant une loi normale, et un tenseur b de taille 3x4,\n",
    "#et un vecteur c de taille 3\n",
    "tensor_5_a=torch.normal(0,1,size=(2,3))\n",
    "#print(tensor_5_a)\n",
    "tensor_5_b=torch.normal(0,1,size=(3,4))\n",
    "#print(tensor_5_b)\n",
    "tensor_5_c=torch.normal(0,1,size=(3,))\n",
    "#print(tensor_5_c)\n",
    "##  Concatenez les deux tenseurs a de façons à former un  tenseur de taille 6x2\n",
    "concatenated_tensor = torch.cat((tensor_5_a.t(), tensor_5_a.t()))\n",
    "#print(concatenated_tensor)\n",
    "\n",
    "##  Affichez le nombre de lignes, de colonnes  de b\n",
    "#print(concatenated_tensor.shape)\n",
    "\n",
    "## Convertissez a en tenseur d'entiers\n",
    "\n",
    "tensor_a_int=tensor_5_a.to(torch.int)\n",
    "#print(tensor_a_int)\n",
    "# Opérations élémentaires sur les tenseurs\n",
    "##Faites le produit scalaire de c par c\n",
    "tensor_op1=torch.dot(tensor_5_c,tensor_5_c)\n",
    "#print(tensor_op1)\n",
    "\n",
    "## Faites le produit matriciel de a par b\n",
    "tensor_op2=torch.matmul(tensor_5_a,tensor_5_b)\n",
    "#print(tensor_op2)\n",
    "\n",
    "## Calculez le produit matriciel de la transposé de a par a\n",
    "tensor_op3=torch.matmul(tensor_5_a,tensor_5_a.t())\n",
    "#print(tensor_op3)\n",
    "\n",
    "## Trouvez l'index des maximums des colonnes de a\n",
    "tensor_5_a=torch.normal(0,1,size=(2,3))\n",
    "#print(tensor_5_a)\n",
    "#print(torch.argmax(tensor_5_a,axis=0))\n",
    "\n",
    "\n",
    "## Faites la somme par colonne de b, la somme totale de b\n",
    "tensor_5_b=torch.normal(0,1,size=(3,4))\n",
    "#print(tensor_5_b)\n",
    "#print(torch.sum(tensor_5_b,axis=0))\n",
    "#print(torch.sum(tensor_5_b))\n",
    "\n",
    "## Calculez la moyenne selon les colonnes de b, puis la moyenne de tous les éléments\n",
    "tensor_5_b=torch.normal(0,1,size=(3,4))\n",
    "#print(tensor_5_b)\n",
    "#print(torch.mean(tensor_5_b,axis=0))\n",
    "#print(torch.mean(tensor_5_b))\n",
    "\n",
    "## Changez la taille de b en 2x6\n",
    "tensor_5_b=torch.normal(0,1,size=(3,4))\n",
    "tensor_5_b_reshaped=tensor_5_b.reshape(2,6)\n",
    "print(tensor_5_b_reshaped)\n"
   ]
  },
  {
   "cell_type": "markdown",
   "metadata": {},
   "source": [
    "Attention ! comme sous numpy, il peut y avoir des pièges !\n",
    "Vérifier toujours les dimensions !!"
   ]
  },
  {
   "cell_type": "code",
   "execution_count": 2,
   "metadata": {},
   "outputs": [
    {
     "name": "stdout",
     "output_type": "stream",
     "text": [
      "tensor([[0., 0., 0., 0., 0.],\n",
      "        [0., 0., 0., 0., 0.],\n",
      "        [0., 0., 0., 0., 0.],\n",
      "        [0., 0., 0., 0., 0.],\n",
      "        [0., 0., 0., 0., 0.]]) tensor([[0., 0., 0., 0., 0.]])\n"
     ]
    }
   ],
   "source": [
    "\n",
    "a=torch.zeros(5,1)\n",
    "b=torch.zeros(5)\n",
    "## la première opération fait un broadcast et le résultat est tenseur à 2 dimensiosn,\n",
    "## le résultat de la deuxième opération est bien un vecteur\n",
    "print(a-b,a.t()-b)"
   ]
  },
  {
   "cell_type": "markdown",
   "metadata": {
    "id": "YzhX7D8KKIvt"
   },
   "source": [
    "## Autograd et graphe de calcul\n",
    "Un élément central de pytorch est le graphe de calcul : lors du calcul d'une variable, l'ensemble des opérations qui ont servies au calcul sont stockées sous la forme d'un graphe acyclique, dit de *calcul*. Les noeuds internes du graphe représentent les opérations, le noeud terminal le résultat et les racines les variables d'entrées. Ce graphe sert en particulier à calculer les dérivées partielles de la sortie par rapport aux variables d'entrées - en utilisant les règles de dérivations chainées des fonctions composées.\n",
    "Pour cela, toutes les fonctions disponibles dans pytorch comportent un mécanisme, appelé *autograd* (automatique differentiation), qui permet de calculer les dérivées partielles des opérations.\n",
    "\n",
    "### Différenciation automatique\n",
    "(De manière simplifiée, pour les détails cf [la documentation](https://pytorch.org/docs/stable/notes/extending.html))\n",
    "\n",
    "Toute opération sous pytorch hérite de la classe **Function** et doit définir :\n",
    "* une méthode **forward(\\*args)** : passe avant, calcule le résultat de la fonction appliquée aux arguments\n",
    "* une méthode **backward(\\*args)** : passe arrière, calcule les dérivées partielles par rapport aux entrées. Les arguments de  cette méthode correspondent aux valeurs des dérivées suivantes dans le graphe de calcul. En particulier, il y a autant d'arguments à **backward**  que de sorties pour la méthode **forward** (rétro-propagation : on doit connaître les dérivés qui viennent  en aval du calcul) et autant de sorties que d'arguments dans la méthode **forward** (chaque sortie correspond à  une dérivée partielle par rapport à chaque entrée du module). Le calcul se fait sur les valeurs du dernier appel de **forward**.\n",
    "\n",
    "Par exemple, pour la fonction d'addition  **add(x,y)**, **add.forward(x,y)** renverra **x+y** (l'appel de la fonction est équivalent à l'appel de **forward**) et **add.backward(1)** renverra le couple **(1,1)** (la dérivée par rapport à x, et celle par rapport à y) .\n",
    "\n",
    "\n",
    "\n",
    "En pratique, ce ne sont pas les méthodes de ces fonctions qui sont utilisées, mais des méthodes équivalentes sur les tenseurs. La méthode **backward** d'un tenseur permet de rétro-propager le calcul du gradient sur toutes les variables qui ont servies à son calcul.\n",
    "\n",
    "La valeur du gradient pour chaque dérivée partielle se trouve dans l'attribut **grad** de la variable concernée.\n",
    "\n",
    "Comme c'est un mécanisme lourd, l'autograd n'est pas activé par défaut pour une variable. Afin de l'activer, il faut mettre le flag **requires_grad** de cette variable à vrai. Dès lors, tout calcul qui utilise cette variable sera enregistré dans le graphe de calcul et le gradient sera disponible.\n",
    "\n",
    "\n",
    "Exemple :"
   ]
  },
  {
   "cell_type": "code",
   "execution_count": 44,
   "metadata": {
    "colab": {
     "base_uri": "https://localhost:8080/"
    },
    "executionInfo": {
     "elapsed": 7,
     "status": "ok",
     "timestamp": 1700496820051,
     "user": {
      "displayName": "Lau re",
      "userId": "03302099944040145915"
     },
     "user_tz": -60
    },
    "id": "J_mYVeXMfsTV",
    "outputId": "2e6001f5-b1ed-4d8d-ba8b-e6fec033aa84"
   },
   "outputs": [
    {
     "name": "stdout",
     "output_type": "stream",
     "text": [
      "Graphe de calcul ?  False\n",
      "Dérivée de z/a :  2.0  z/b : 1.0\n",
      "Erreur :  element 0 of tensors does not require grad and does not have a grad_fn\n"
     ]
    }
   ],
   "source": [
    "a = torch.tensor(1.)\n",
    "# Par défaut, requires_grad est à False\n",
    "print(\"Graphe de calcul ? \",a.requires_grad)\n",
    "# On peut demander à ce que le graphe de calcul soit retenu\n",
    "a.requires_grad = True\n",
    "# Ou lors de la création du tenseur directement\n",
    "b = torch.tensor(2.,requires_grad=True)\n",
    "z = 2*a + b\n",
    "# Calcul des dérivées partielles par rapport à z\n",
    "z.backward()\n",
    "print(\"Dérivée de z/a : \", a.grad.item(),\" z/b :\", b.grad.item())\n",
    "\n",
    "# Si on a oublié de demander le graphe de calcul :\n",
    "a, b = torch.tensor(1.),torch.tensor(2.)\n",
    "z = 2*a+b\n",
    "try:\n",
    "  z.backward()\n",
    "except Exception as e:\n",
    "  print(\"Erreur : \", e)"
   ]
  },
  {
   "cell_type": "markdown",
   "metadata": {
    "id": "eApYmHIZa917"
   },
   "source": [
    "### <span class=\"alert-success\">     Exercice :  Utilisation de backward     </div>\n",
    "* Implémentez (en une ligne) la fonction de coût aux moindres carrés $MSE(\\hat{y},y)=\\frac{1}{2N} \\sum_{i=1}^N\\|\\hat{y_i}-y_i\\|^2$ où $\\hat{y},y$ sont deux matrices de taille $N\\times d$, et $y_i,\\hat{y_i}$ les $i$-èmes vecteurs lignes des matrices.\n",
    "\n",
    "Vérifiez bien en début de code que $\\hat{y}$ et $y$ sont des matrices et non pas des vecteurs, pour ne pas avoir d'erreur lors du broadcasting.\n",
    "\n",
    "* Engendrez **y,yhat** deux matrices aléatoires de taille $(1,5)$.\n",
    "* Calculez **MSE(y,yhat)** et l'afficher\n",
    "* Calculez à la main le gradient de **MSE** par rapport à **y**, **yhat**\n",
    "* Calculez grâce à pytorch le gradient de **MSE** par rapport à **y** et **yhat** et vérifier le résultat. Observez la dimension de sortie, est-elle bien compatible avec la taille de **y** et **yhat** ?\n",
    "* Appelez une deuxième fois **MSE** sur les mêmes vecteurs et la méthode **backward**. Qu'observez vous pour le gradient ? Comment l'expliquez vous ?"
   ]
  },
  {
   "cell_type": "code",
   "execution_count": 80,
   "metadata": {
    "id": "4Rd37M_3gkqu"
   },
   "outputs": [
    {
     "name": "stdout",
     "output_type": "stream",
     "text": [
      "tensor(0.3284, grad_fn=<MulBackward0>)\n"
     ]
    }
   ],
   "source": [
    "def MSE(y,y_hat):\n",
    "    return 1/(2*y.shape[0])*torch.linalg.norm(y-y_hat)**2\n",
    "\n",
    "y=torch.rand(1,5)\n",
    "y_hat=torch.rand(1,5)\n",
    "y.requires_grad=True\n",
    "y_hat.requires_grad=True\n",
    "mse=MSE(y,y_hat)\n",
    "print(mse)\n",
    "mse.backward()\n",
    "#print(\"Y derive partielle\",y.grad.item())\n",
    "#print(\"Y_hat derivee partielle\",y_hat.grad.item())"
   ]
  },
  {
   "cell_type": "markdown",
   "metadata": {
    "id": "JxgCbApIgU5X"
   },
   "source": [
    "\n",
    "### <span class=\"alert-success\"> Exercice :   Régression linéaire en pytorch </span>\n",
    "\n",
    "* Définissez la fonction **flineaire(x,w,b)** fonction linéaire qui calcule $f(x,w,b)=x.w^t+b$  avec $x\\in \\mathbb{R}^{{n\\times d}},~w\\in\\mathbb{R}^{1,d}, b\\in \\mathbb{R}$\n",
    "* Ecrivez le code de **descente_gradient(datax,datay,loss, eps, epochs)** pour réaliser une descente de gradient sur les données **datax, datay** avec le coût **loss**, un pas de gradient **eps** et un nombre d'itérations **epochs**. Elle doit renvoyer les paramètre **w** et **b** optimaux : $$w^∗,b^∗=argmin_{w,b}\\frac{1}{N} \\sum_{i=1}^N loss(f(x^i,w,b),y^i)$$\n",
    "\n",
    "Pour tester votre code, utilisez soit les données simulées du TME2, soit le jeu de données très classique *Boston*, le prix des loyers à Boston en fonction de caractéristiques socio-économiques des quartiers. Le code ci-dessous permet de les charger.\n",
    "\n",
    "* Visualisez la courbe d'erreur en fonction du nombre d'itérations."
   ]
  },
  {
   "cell_type": "code",
   "execution_count": null,
   "metadata": {},
   "outputs": [],
   "source": [
    "\n",
    "## Chargement des données Boston et transformation en tensor.\n",
    "from sklearn.datasets import fetch_california_housing\n",
    "housing = fetch_california_housing(data_home=\"./data/\") ## chargement des données\n",
    "housing_x = torch.tensor(housing['data'],dtype=torch.float) # penser à typer les données pour éliminer les incertitudes\n",
    "housing_y = torch.tensor(housing['target'],dtype=torch.float)\n",
    "print(\"Nombre d'exemples : \",housing_x.size(0), \"Dimension : \",housing_x.size(1))\n",
    "print(\"Nom des attributs : \", \", \".join(housing['feature_names']))\n",
    "\n",
    "print(housing_x[:5])\n",
    "\n",
    "print(\"Nombre d'exemples : \",housing_x.size(0), \"Dimension : \",housing_x.size(1))\n",
    "print(\"Nom des attributs : \", \", \".join(housing['feature_names']))\n",
    "\n",
    "# On centre norme les données, sinon... Testez pour voir !\n",
    "housing_x = 2*(housing_x-housing_x.min(0)[0])/(housing_x.max(0)[0]-housing_x.min(0)[0])-1\n",
    "housing_y = 2*(housing_y-housing_y.min(0)[0])/(housing_y.max(0)[0]-housing_y.min(0)[0])-1\n",
    "print(housing_x.max(),housing_x.min(),housing_y.max(),housing_y.min())"
   ]
  },
  {
   "cell_type": "code",
   "execution_count": null,
   "metadata": {
    "colab": {
     "base_uri": "https://localhost:8080/"
    },
    "executionInfo": {
     "elapsed": 2149,
     "status": "ok",
     "timestamp": 1700496822197,
     "user": {
      "displayName": "Lau re",
      "userId": "03302099944040145915"
     },
     "user_tz": -60
    },
    "id": "dArOgSWNTVvb",
    "outputId": "3c737f4c-2336-4f58-ab16-31c6b8e53f35"
   },
   "outputs": [],
   "source": []
  },
  {
   "cell_type": "code",
   "execution_count": null,
   "metadata": {},
   "outputs": [],
   "source": []
  },
  {
   "cell_type": "code",
   "execution_count": null,
   "metadata": {},
   "outputs": [],
   "source": []
  },
  {
   "cell_type": "code",
   "execution_count": null,
   "metadata": {
    "colab": {
     "base_uri": "https://localhost:8080/",
     "height": 483
    },
    "executionInfo": {
     "elapsed": 403,
     "status": "ok",
     "timestamp": 1700496822595,
     "user": {
      "displayName": "Lau re",
      "userId": "03302099944040145915"
     },
     "user_tz": -60
    },
    "id": "sLKQ7Z1dECls",
    "outputId": "4f7b28b6-721c-42af-e8af-ea823a9c073c"
   },
   "outputs": [],
   "source": []
  },
  {
   "cell_type": "markdown",
   "metadata": {
    "id": "WRwqLJPRIpXu"
   },
   "source": [
    "\n",
    "## Optimiseur\n",
    "Pytorch inclut une classe très utile pour la descente de gradient, [torch.optim](https://pytorch.org/docs/stable/optim.html), qui permet :\n",
    "* d'économiser quelques lignes de codes\n",
    "* d'automatiser la mise-à-jour des paramètres\n",
    "* d'abstraire le type de descente de gradient utilisé (sgd,adam, rmsprop, ...)\n",
    "\n",
    "Une liste de paramètres à optimiser est passée à l'optimiseur lors de l'initialisation. La méthode **zero_grad()** permet de remettre le gradient à zéro et la méthode **step()** permet de faire une mise-à-jour des paramètres.\n",
    "\n",
    "Un exemple de code  utilisant l'optimiseur est donné ci-dessous. \n",
    "\n",
    "Ré-implémentez la descente de gradient en utilisant un optimiseur. \n",
    "\n",
    "L'optimiseur le plus utilisé  est **Adam** qui permet une pas adaptatif en fonction de l'historique. Sur ce problème simple vous ne verrez pas de différence, vous pourrez comparer par la suite **SGD** et **Adam**.\n"
   ]
  },
  {
   "cell_type": "code",
   "execution_count": 4,
   "metadata": {},
   "outputs": [
    {
     "name": "stdout",
     "output_type": "stream",
     "text": [
      "W init :  tensor([ 0.7131, -0.7310, -0.2511, -0.8285,  0.1622,  0.3894, -0.2038, -0.5364,\n",
      "        -0.3664,  0.5643,  0.1955,  0.8044,  0.0686,  1.7690, -2.2179,  0.7077,\n",
      "        -0.4846,  1.7863, -0.2217,  1.3794,  0.0791,  0.6881,  0.9746, -0.3042,\n",
      "        -0.5262,  1.4498,  0.4453,  0.8707, -0.7601, -0.8082,  0.4665, -2.3467,\n",
      "        -0.5376,  1.8054,  2.2813,  0.1680,  1.5347, -0.4939,  0.5980,  0.2086,\n",
      "         0.7688, -2.1290, -0.7039, -0.1676,  0.6199, -0.4975,  1.1168,  2.4291,\n",
      "         1.7000,  1.9461, -0.1466, -0.6167, -0.2259,  1.0198, -0.5967, -1.3818,\n",
      "         0.6170, -1.3896,  1.7213, -1.4848, -0.6846,  0.6466,  0.0954, -0.7323,\n",
      "         0.5091,  0.6113, -0.6161,  0.3261,  1.0273,  0.9064, -0.0560,  0.8863,\n",
      "        -0.1711,  1.2118,  0.5055, -0.4588, -1.4233,  0.4671,  0.3785,  0.6382,\n",
      "        -1.1068, -1.9888, -0.3325,  0.4038,  0.9196,  1.6531, -0.8145,  0.1160,\n",
      "         0.5658,  0.6786,  0.1483, -1.9722,  1.8924,  0.8527, -1.6467,  0.4915,\n",
      "        -1.1012,  1.0419, -0.1373, -0.3748], requires_grad=True)\n",
      "gradient :  tensor([ 1.4262, -1.4621, -0.5022, -1.6571,  0.3244,  0.7787, -0.4076, -1.0728,\n",
      "        -0.7327,  1.1286,  0.3911,  1.6088,  0.1371,  3.5381, -4.4359,  1.4154,\n",
      "        -0.9691,  3.5725, -0.4433,  2.7589,  0.1583,  1.3762,  1.9491, -0.6083,\n",
      "        -1.0524,  2.8996,  0.8906,  1.7415, -1.5202, -1.6164,  0.9329, -4.6934,\n",
      "        -1.0752,  3.6107,  4.5627,  0.3361,  3.0694, -0.9877,  1.1960,  0.4171,\n",
      "         1.5375, -4.2579, -1.4077, -0.3353,  1.2397, -0.9951,  2.2336,  4.8583,\n",
      "         3.3999,  3.8923, -0.2933, -1.2335, -0.4519,  2.0396, -1.1935, -2.7637,\n",
      "         1.2340, -2.7792,  3.4425, -2.9697, -1.3692,  1.2931,  0.1907, -1.4645,\n",
      "         1.0182,  1.2225, -1.2322,  0.6522,  2.0546,  1.8128, -0.1120,  1.7726,\n",
      "        -0.3423,  2.4236,  1.0111, -0.9175, -2.8466,  0.9343,  0.7570,  1.2764,\n",
      "        -2.2137, -3.9776, -0.6650,  0.8076,  1.8392,  3.3062, -1.6290,  0.2321,\n",
      "         1.1316,  1.3573,  0.2966, -3.9443,  3.7847,  1.7054, -3.2933,  0.9831,\n",
      "        -2.2024,  2.0837, -0.2746, -0.7497])\n",
      "w corrigé :  tensor([ 0.7121, -0.7300, -0.2501, -0.8275,  0.1612,  0.3884, -0.2028, -0.5354,\n",
      "        -0.3654,  0.5633,  0.1945,  0.8034,  0.0676,  1.7680, -2.2169,  0.7067,\n",
      "        -0.4836,  1.7853, -0.2207,  1.3784,  0.0781,  0.6871,  0.9736, -0.3032,\n",
      "        -0.5252,  1.4488,  0.4443,  0.8697, -0.7591, -0.8072,  0.4655, -2.3457,\n",
      "        -0.5366,  1.8044,  2.2803,  0.1670,  1.5337, -0.4929,  0.5970,  0.2076,\n",
      "         0.7678, -2.1280, -0.7029, -0.1666,  0.6189, -0.4965,  1.1158,  2.4281,\n",
      "         1.6990,  1.9451, -0.1456, -0.6157, -0.2249,  1.0188, -0.5957, -1.3808,\n",
      "         0.6160, -1.3886,  1.7203, -1.4838, -0.6836,  0.6456,  0.0944, -0.7313,\n",
      "         0.5081,  0.6103, -0.6151,  0.3251,  1.0263,  0.9054, -0.0550,  0.8853,\n",
      "        -0.1701,  1.2108,  0.5045, -0.4578, -1.4223,  0.4661,  0.3775,  0.6372,\n",
      "        -1.1058, -1.9878, -0.3315,  0.4028,  0.9186,  1.6521, -0.8135,  0.1150,\n",
      "         0.5648,  0.6776,  0.1473, -1.9712,  1.8914,  0.8517, -1.6457,  0.4905,\n",
      "        -1.1002,  1.0409, -0.1363, -0.3738], requires_grad=True)\n",
      "tensor([0., 0., 0., 0., 0., 0., 0., 0., 0., 0., 0., 0., 0., 0., 0., 0., 0., 0., 0., 0., 0., 0., 0., 0.,\n",
      "        0., 0., 0., 0., 0., 0., 0., 0., 0., 0., 0., 0., 0., 0., 0., 0., 0., 0., 0., 0., 0., 0., 0., 0.,\n",
      "        0., 0., 0., 0., 0., 0., 0., 0., 0., 0., 0., 0., 0., 0., 0., 0., 0., 0., 0., 0., 0., 0., 0., 0.,\n",
      "        0., 0., 0., 0., 0., 0., 0., 0., 0., 0., 0., 0., 0., 0., 0., 0., 0., 0., 0., 0., 0., 0., 0., 0.,\n",
      "        0., 0., 0., 0.])\n"
     ]
    }
   ],
   "source": [
    "w = torch.randn(100,dtype=torch.float,requires_grad=True)\n",
    "b = torch.randn(1,dtype=torch.float,requires_grad=True)\n",
    "print(\"W init : \",w)\n",
    "## on optimise selon w et b.  lr est le pas du gradient\n",
    "optim = torch.optim.Adam(params=[w,b],lr=1e-3)\n",
    "auhasard = (w.dot(w)+b)\n",
    "#Mise à zéro du gradient\n",
    "optim.zero_grad()\n",
    "# Calcul du gradient\n",
    "auhasard.backward()\n",
    "print(\"gradient : \",w.grad)\n",
    "#Mise à jour des paramètres\n",
    "optim.step()\n",
    "print(\"w corrigé : \",w)\n",
    "#Mise à zéro du gradient\n",
    "optim.zero_grad()\n",
    "print(w.grad)"
   ]
  },
  {
   "cell_type": "markdown",
   "metadata": {},
   "source": [
    "\n",
    "Ré-implémentez la fonction de descente de gradient en utilisant un optimiseur.\n",
    "\n",
    "L'optimiseur le plus utilisé  est **Adam** qui permet une pas adaptatif en fonction de l'historique. Sur ce problème simple vous ne verrez pas de différence, vous pourrez comparer par la suite **SGD** et **Adam**.\n"
   ]
  },
  {
   "cell_type": "code",
   "execution_count": null,
   "metadata": {
    "colab": {
     "base_uri": "https://localhost:8080/"
    },
    "executionInfo": {
     "elapsed": 6645,
     "status": "ok",
     "timestamp": 1700496829225,
     "user": {
      "displayName": "Lau re",
      "userId": "03302099944040145915"
     },
     "user_tz": -60
    },
    "id": "dftaEnaoIupc",
    "outputId": "5521979c-f770-4e67-e985-83ab12147322"
   },
   "outputs": [],
   "source": []
  },
  {
   "cell_type": "markdown",
   "metadata": {
    "id": "MHY1ffLNJxsb"
   },
   "source": [
    "\n",
    "## DataLoader\n",
    "Le <a href=https://pytorch.org/docs/stable/data.html>**DataLoader**</a> et la classe associée <a href=https://pytorch.org/docs/stable/data.html#torch.utils.data.Dataset> **Dataset**</a>  permettent en particulier de :\n",
    "* charger des données\n",
    "* pré-processer les données\n",
    "* de gérer les mini-batchs (sous-ensembles sur lequel on effectue une descente de gradient).\n",
    "\n",
    "La classe **Dataset** est une classe abstraite qui nécessite l'implémentation que d'une seule méthode, ```__getitem__(self,index)``` : elle renvoie le i-ème objet du jeu de données (généralement un couple *(exemple,label)*.\n",
    "\n",
    "La classe **TensorDataset** est l'instanciation la plus courante d'un **Dataset**, elle permet de créer un objet **Dataset** à partir d'une liste de tenseurs qui renvoie pour un index $i$ donné le tuple contenant les $i$-èmes ligne de chaque tenseur.\n",
    "\n",
    "La classe **DataLoader** permet essentiellement de randomiser et de constituer des mini-batchs de façon simple à partir d'une instance de **Dataset**. Chaque mini-batch est constitué d'exemples tirés aléatoirement dans le **Dataset** passé en paramètre et mis bout à bout dans des tenseurs. La méthode ```collate_fn(*args)``` est utilisée pour cela (nous ne l'utiliserons pas pour l'instant). C'est ce générateur qui est généralement parcouru lors de l'apprentissage à chaque itération d'optimisation.\n",
    "\n",
    "Voici un exemple de code pour utiliser le DataLoader :\n"
   ]
  },
  {
   "cell_type": "code",
   "execution_count": null,
   "metadata": {
    "id": "Hg-ziayDJsbS"
   },
   "outputs": [],
   "source": [
    "from torch.utils.data import DataLoader,TensorDataset, Dataset\n",
    "\n",
    "## Création d'un dataset à partir des deux tenseurs d'exemples et de labels\n",
    "train_data = TensorDataset(housing_x,housing_y)\n",
    "\n",
    "## On peut indexer et connaitre la longueur d'un dataset\n",
    "print(len(train_data),train_data[5])\n",
    "\n",
    "## Création d'un DataLoader\n",
    "## tailles de mini-batch de 16, shuffle=True permet de mélanger les exemples\n",
    "# loader est un itérateur sur les mini-batchs des données\n",
    "loader = DataLoader(train_data, batch_size=16,shuffle=True )\n",
    "\n",
    "#Premier batch (aléatoire) du dataloader :\n",
    "print(len(iter(loader)),next(iter(loader)))\n",
    "for x,y in loader:\n",
    "    print(x,y)\n",
    "    break\n"
   ]
  },
  {
   "cell_type": "markdown",
   "metadata": {},
   "source": [
    "Modifiez votre code pour utiliser un Dataloader : **descente_gradient(loader, loss, eps, epochs) **.\n",
    "\n",
    "Oubliez pas qu'une époque correspond à la prise en compte de tous les exemples une fois. Le coût n'est généralement enregistré qu'à la fin d'une époque, cumulé sur tous les batchs. Vous pouvez utiliser la fonction **item()** d'un tenseur pour avoir accès au scalaire sans garder de trace du graphe de calcul.\n",
    "\n",
    "Testez et observez les différences en fonction de la taille des mini-batchs. Est-ce plus rapide ou plus lent que la version batch ? pourquoi ?"
   ]
  },
  {
   "cell_type": "code",
   "execution_count": null,
   "metadata": {},
   "outputs": [],
   "source": []
  },
  {
   "cell_type": "markdown",
   "metadata": {
    "id": "KKs1Q5pPKf-2"
   },
   "source": [
    "\n",
    "## TensorBoard\n",
    "\n",
    "Durant l'apprentissage de vos modèles, il est agréable de visualiser de quelle manière évolue le coût, la précision sur l'ensemble de validation ainsi que d'autres éléments. TensorFlow dispose d'un outil très apprécié, le TensorBoard, qui permet de gérer très facilement de tels affichages. On retrouve tensorboard dans **Pytorch** dans ```torch.utils.ensorboard``` qui permet de faire le pont de pytorch vers cet outil.\n",
    "\n",
    "Le principe est le suivant :\n",
    "* tensorboard fait tourner en fait un serveur web local qui va lire les fichiers de log dans un répertoire local. L'affichage se fait dans votre navigateur à partir d'un lien fourni lors du lancement de tensorboard.\n",
    "* Les éléments que vous souhaitez visualiser (scalaire, graphes, distributions, histogrammes) sont écrits dans le fichier de log à partir d'un objet **SummaryWriter** .\n",
    "* la méthode ```add_scalar(tag, valeur, global_step)``` permet de logger une valeur à un step donné, ```add_scalar(tag, tag_scalar_dic, global_step)``` un ensemble de valeurs par l'intermédiaire du dictionnaire ```tag_scalar_dic``` (un regroupement des scalaires est fait en fonction du tag passé, chaque sous-tag séparé par un **/**).\n",
    "\n",
    "Il existe d'autres méthodes ```add_XXX``` pour visualiser par exemple des images, des histogrammes (cf <a href=https://pytorch.org/docs/stable/tensorboard.html>la doc </a>).\n",
    "\n",
    "Le code suivant illustre une manière de l'utiliser.\n",
    "Pour information, il est bien plus agréable de l'utiliser en dehors d'un notebook que à l'intérieur. "
   ]
  },
  {
   "cell_type": "code",
   "execution_count": null,
   "metadata": {
    "id": "ZG9P8sKPKdcq"
   },
   "outputs": [],
   "source": [
    "#Spécial notebook, les commandes suivantes permettent de lancer tensorboard\n",
    "# En dehors du notebook, il faut le lancer à la main dans le shell :\n",
    "# tensorboard --logdir logs\n",
    "TB_PATH = \"/tmp/logs/module1\"\n",
    "import os\n",
    "os.makedirs(TB_PATH,exist_ok=True)\n",
    "%load_ext tensorboard\n",
    "%tensorboard --logdir {TB_PATH}\n",
    "from torch.utils.tensorboard import SummaryWriter\n",
    "\n",
    "# Spécial notebook : pour avoir les courbes qui s'affichent dans le notebook,\n",
    "# sinon aller à l'adresse web local indiquée lors du lancement de tensorboard\n",
    "from tensorboard import notebook\n",
    "notebook.display()\n",
    "# Où seront stockés les logs.\n",
    "summary = SummaryWriter(f\"{TB_PATH}/test\")\n",
    "\n",
    "mseloss = torch.nn.MSELoss()\n",
    "for e in range(1000):\n",
    "    summary.add_scalar(\"loss/train\",torch.randn(1,1).item(),e)\n",
    "    summary.add_scalar(\"loss/test\",torch.randn(1,1).item(),e)\n",
    "  "
   ]
  },
  {
   "cell_type": "markdown",
   "metadata": {},
   "source": [
    "Intégrez Tensorboard à votre code et testez le."
   ]
  },
  {
   "cell_type": "code",
   "execution_count": null,
   "metadata": {},
   "outputs": [],
   "source": []
  }
 ],
 "metadata": {
  "accelerator": "GPU",
  "colab": {
   "provenance": []
  },
  "kernelspec": {
   "display_name": "Python 3 (ipykernel)",
   "language": "python",
   "name": "python3"
  },
  "language_info": {
   "codemirror_mode": {
    "name": "ipython",
    "version": 3
   },
   "file_extension": ".py",
   "mimetype": "text/x-python",
   "name": "python",
   "nbconvert_exporter": "python",
   "pygments_lexer": "ipython3",
   "version": "3.9.6"
  }
 },
 "nbformat": 4,
 "nbformat_minor": 4
}
